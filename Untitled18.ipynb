{
  "nbformat": 4,
  "nbformat_minor": 0,
  "metadata": {
    "colab": {
      "provenance": []
    },
    "kernelspec": {
      "name": "python3",
      "display_name": "Python 3"
    },
    "language_info": {
      "name": "python"
    }
  },
  "cells": [
    {
      "cell_type": "code",
      "execution_count": 1,
      "metadata": {
        "colab": {
          "base_uri": "https://localhost:8080/"
        },
        "id": "SahgE5ctP7U7",
        "outputId": "3053100d-e616-44d7-871d-d94888c068d8"
      },
      "outputs": [
        {
          "output_type": "stream",
          "name": "stdout",
          "text": [
            "Cleaned previous uvicorn (if any).\n"
          ]
        }
      ],
      "source": [
        "# Reset any previous runs (safe to skip if first time)\n",
        "import os, signal, subprocess, re\n",
        "\n",
        "# Kill old uvicorns\n",
        "out = subprocess.getoutput(\"ps -ef | grep 'uvicorn app.main:app' | grep -v grep\")\n",
        "for line in out.splitlines():\n",
        "    m = re.search(r'^\\S+\\s+(\\d+)\\s', line)\n",
        "    if m:\n",
        "        try: os.kill(int(m.group(1)), signal.SIGKILL)\n",
        "        except: pass\n",
        "print(\"Cleaned previous uvicorn (if any).\")\n"
      ]
    },
    {
      "cell_type": "code",
      "source": [
        "REPO_URL = \"https://github.com/Shrikanthar/gradtrack-fullstack.git\"\n",
        "\n",
        "# Re-clone cleanly\n",
        "import os, shutil\n",
        "repo_dir = REPO_URL.split(\"/\")[-1].replace(\".git\",\"\")\n",
        "if os.path.exists(repo_dir):\n",
        "    shutil.rmtree(repo_dir)\n",
        "\n",
        "!git clone {REPO_URL}\n",
        "%cd {repo_dir}/backend\n",
        "!pwd && ls -la\n"
      ],
      "metadata": {
        "colab": {
          "base_uri": "https://localhost:8080/"
        },
        "id": "q22crNJcP8tm",
        "outputId": "b8dde2b4-0b59-458d-e8ca-d9c7e49d446a"
      },
      "execution_count": 2,
      "outputs": [
        {
          "output_type": "stream",
          "name": "stdout",
          "text": [
            "Cloning into 'gradtrack-fullstack'...\n",
            "remote: Enumerating objects: 30, done.\u001b[K\n",
            "remote: Counting objects: 100% (30/30), done.\u001b[K\n",
            "remote: Compressing objects: 100% (27/27), done.\u001b[K\n",
            "remote: Total 30 (delta 2), reused 0 (delta 0), pack-reused 0 (from 0)\u001b[K\n",
            "Receiving objects: 100% (30/30), 9.61 KiB | 9.61 MiB/s, done.\n",
            "Resolving deltas: 100% (2/2), done.\n",
            "/content/gradtrack-fullstack/backend\n",
            "/content/gradtrack-fullstack/backend\n",
            "total 24\n",
            "drwxr-xr-x 4 root root 4096 Aug 24 13:24 .\n",
            "drwxr-xr-x 5 root root 4096 Aug 24 13:24 ..\n",
            "drwxr-xr-x 2 root root 4096 Aug 24 13:24 app\n",
            "-rw-r--r-- 1 root root  265 Aug 24 13:24 Dockerfile\n",
            "-rw-r--r-- 1 root root   94 Aug 24 13:24 requirements.txt\n",
            "drwxr-xr-x 2 root root 4096 Aug 24 13:24 tests\n"
          ]
        }
      ]
    },
    {
      "cell_type": "code",
      "source": [
        "!pip install -q -r requirements.txt\n"
      ],
      "metadata": {
        "colab": {
          "base_uri": "https://localhost:8080/"
        },
        "id": "uq0VBlmEQEDE",
        "outputId": "22b3d9ec-1932-4a33-d374-852ffd1565d5"
      },
      "execution_count": 3,
      "outputs": [
        {
          "output_type": "stream",
          "name": "stdout",
          "text": [
            "\u001b[2K     \u001b[90m━━━━━━━━━━━━━━━━━━━━━━━━━━━━━━━━━━━━━━━\u001b[0m \u001b[32m109.4/109.4 kB\u001b[0m \u001b[31m4.5 MB/s\u001b[0m eta \u001b[36m0:00:00\u001b[0m\n",
            "\u001b[2K   \u001b[90m━━━━━━━━━━━━━━━━━━━━━━━━━━━━━━━━━━━━━━━━\u001b[0m \u001b[32m92.0/92.0 kB\u001b[0m \u001b[31m5.9 MB/s\u001b[0m eta \u001b[36m0:00:00\u001b[0m\n",
            "\u001b[2K   \u001b[90m━━━━━━━━━━━━━━━━━━━━━━━━━━━━━━━━━━━━━━━━\u001b[0m \u001b[32m62.4/62.4 kB\u001b[0m \u001b[31m3.8 MB/s\u001b[0m eta \u001b[36m0:00:00\u001b[0m\n",
            "\u001b[2K   \u001b[90m━━━━━━━━━━━━━━━━━━━━━━━━━━━━━━━━━━━━━━━━\u001b[0m \u001b[32m409.0/409.0 kB\u001b[0m \u001b[31m14.4 MB/s\u001b[0m eta \u001b[36m0:00:00\u001b[0m\n",
            "\u001b[2K   \u001b[90m━━━━━━━━━━━━━━━━━━━━━━━━━━━━━━━━━━━━━━━━\u001b[0m \u001b[32m339.2/339.2 kB\u001b[0m \u001b[31m20.0 MB/s\u001b[0m eta \u001b[36m0:00:00\u001b[0m\n",
            "\u001b[2K   \u001b[90m━━━━━━━━━━━━━━━━━━━━━━━━━━━━━━━━━━━━━━━━\u001b[0m \u001b[32m75.6/75.6 kB\u001b[0m \u001b[31m4.7 MB/s\u001b[0m eta \u001b[36m0:00:00\u001b[0m\n",
            "\u001b[2K   \u001b[90m━━━━━━━━━━━━━━━━━━━━━━━━━━━━━━━━━━━━━━━━\u001b[0m \u001b[32m2.1/2.1 MB\u001b[0m \u001b[31m56.0 MB/s\u001b[0m eta \u001b[36m0:00:00\u001b[0m\n",
            "\u001b[2K   \u001b[90m━━━━━━━━━━━━━━━━━━━━━━━━━━━━━━━━━━━━━━━━\u001b[0m \u001b[32m71.9/71.9 kB\u001b[0m \u001b[31m5.0 MB/s\u001b[0m eta \u001b[36m0:00:00\u001b[0m\n",
            "\u001b[2K   \u001b[90m━━━━━━━━━━━━━━━━━━━━━━━━━━━━━━━━━━━━━━━━\u001b[0m \u001b[32m57.4/57.4 kB\u001b[0m \u001b[31m3.9 MB/s\u001b[0m eta \u001b[36m0:00:00\u001b[0m\n",
            "\u001b[2K   \u001b[90m━━━━━━━━━━━━━━━━━━━━━━━━━━━━━━━━━━━━━━━━\u001b[0m \u001b[32m313.6/313.6 kB\u001b[0m \u001b[31m16.7 MB/s\u001b[0m eta \u001b[36m0:00:00\u001b[0m\n",
            "\u001b[2K   \u001b[90m━━━━━━━━━━━━━━━━━━━━━━━━━━━━━━━━━━━━━━━━\u001b[0m \u001b[32m510.8/510.8 kB\u001b[0m \u001b[31m25.1 MB/s\u001b[0m eta \u001b[36m0:00:00\u001b[0m\n",
            "\u001b[2K   \u001b[90m━━━━━━━━━━━━━━━━━━━━━━━━━━━━━━━━━━━━━━━━\u001b[0m \u001b[32m4.7/4.7 MB\u001b[0m \u001b[31m92.0 MB/s\u001b[0m eta \u001b[36m0:00:00\u001b[0m\n",
            "\u001b[2K   \u001b[90m━━━━━━━━━━━━━━━━━━━━━━━━━━━━━━━━━━━━━━━━\u001b[0m \u001b[32m452.2/452.2 kB\u001b[0m \u001b[31m27.0 MB/s\u001b[0m eta \u001b[36m0:00:00\u001b[0m\n",
            "\u001b[?25h\u001b[31mERROR: pip's dependency resolver does not currently take into account all the packages that are installed. This behaviour is the source of the following dependency conflicts.\n",
            "mcp 1.13.0 requires httpx>=0.27.1, but you have httpx 0.27.0 which is incompatible.\n",
            "mcp 1.13.0 requires pydantic<3.0.0,>=2.11.0, but you have pydantic 2.7.4 which is incompatible.\n",
            "mcp 1.13.0 requires uvicorn>=0.31.1; sys_platform != \"emscripten\", but you have uvicorn 0.30.0 which is incompatible.\n",
            "google-genai 1.30.0 requires httpx<1.0.0,>=0.28.1, but you have httpx 0.27.0 which is incompatible.\n",
            "gradio 5.42.0 requires fastapi<1.0,>=0.115.2, but you have fastapi 0.111.0 which is incompatible.\n",
            "gradio 5.42.0 requires starlette<1.0,>=0.40.0; sys_platform != \"emscripten\", but you have starlette 0.37.2 which is incompatible.\n",
            "albumentations 2.0.8 requires pydantic>=2.9.2, but you have pydantic 2.7.4 which is incompatible.\n",
            "firebase-admin 6.9.0 requires httpx[http2]==0.28.1, but you have httpx 0.27.0 which is incompatible.\n",
            "google-adk 1.11.0 requires fastapi<1.0.0,>=0.115.0, but you have fastapi 0.111.0 which is incompatible.\n",
            "google-adk 1.11.0 requires starlette<1.0.0,>=0.46.2, but you have starlette 0.37.2 which is incompatible.\n",
            "google-adk 1.11.0 requires uvicorn<1.0.0,>=0.34.0, but you have uvicorn 0.30.0 which is incompatible.\u001b[0m\u001b[31m\n",
            "\u001b[0m"
          ]
        }
      ]
    },
    {
      "cell_type": "code",
      "source": [
        "# (Re)kill any previous uvicorn just in case\n",
        "import os, signal, subprocess, re\n",
        "out = subprocess.getoutput(\"ps -ef | grep 'uvicorn app.main:app' | grep -v grep\")\n",
        "for line in out.splitlines():\n",
        "    m = re.search(r'^\\S+\\s+(\\d+)\\s', line)\n",
        "    if m:\n",
        "        try: os.kill(int(m.group(1)), signal.SIGKILL)\n",
        "        except: pass\n",
        "\n",
        "# Launch FastAPI in background\n",
        "!uvicorn app.main:app --host 0.0.0.0 --port 8000 &\n",
        "\n",
        "# quick health check locally (no tunnel yet)\n",
        "import time, requests\n",
        "time.sleep(2)\n",
        "print(\"Local health:\", requests.get(\"http://127.0.0.1:8000/health\").json())\n"
      ],
      "metadata": {
        "colab": {
          "base_uri": "https://localhost:8080/"
        },
        "id": "AaMtfLIqQIu8",
        "outputId": "0b258793-b29a-42ab-a38e-a2da0bdd40d2"
      },
      "execution_count": null,
      "outputs": [
        {
          "output_type": "stream",
          "name": "stdout",
          "text": [
            "\u001b[32mINFO\u001b[0m:     Started server process [\u001b[36m570\u001b[0m]\n",
            "\u001b[32mINFO\u001b[0m:     Waiting for application startup.\n",
            "\u001b[32mINFO\u001b[0m:     Application startup complete.\n",
            "\u001b[32mINFO\u001b[0m:     Uvicorn running on \u001b[1mhttp://0.0.0.0:8000\u001b[0m (Press CTRL+C to quit)\n"
          ]
        }
      ]
    },
    {
      "cell_type": "code",
      "source": [
        "!pip install -q pyngrok\n",
        "from pyngrok import ngrok\n",
        "\n",
        "# If you *have* an ngrok auth token, uncomment & paste it once:\n",
        "# ngrok.set_auth_token(\"YOUR_NGROK_TOKEN_HERE\")\n",
        "\n",
        "public_url = ngrok.connect(8000)   # returns a URL string in recent versions\n",
        "public_url = str(public_url)\n",
        "print(\"Public URL:\", public_url)\n"
      ],
      "metadata": {
        "id": "6xSryve8QP8i"
      },
      "execution_count": null,
      "outputs": []
    },
    {
      "cell_type": "code",
      "source": [
        "import requests, time\n",
        "BASE = public_url\n",
        "H = {\"x-api-key\": \"devkey\"}\n",
        "\n",
        "# Give the server a moment to be ready through the tunnel\n",
        "time.sleep(2)\n",
        "\n",
        "# Health\n",
        "r = requests.get(f\"{BASE}/health\")\n",
        "print(\"Health:\", r.status_code, r.text)\n",
        "\n",
        "# Create one application\n",
        "payload = {\"company\":\"Lloyds\",\"role\":\"Graduate SWE\",\"location\":\"London\",\"status\":\"applied\",\"source\":\"careers\",\"notes\":\"Submitted via portal\"}\n",
        "r = requests.post(f\"{BASE}/applications\", headers=H, json=payload)\n",
        "print(\"Create:\", r.status_code, r.text)\n",
        "\n",
        "# List\n",
        "r = requests.get(f\"{BASE}/applications\", headers=H)\n",
        "print(\"List:\", r.status_code, r.text)\n",
        "\n",
        "# Stats\n",
        "r = requests.get(f\"{BASE}/stats/summary\", headers=H)\n",
        "print(\"Stats:\", r.status_code, r.text)\n"
      ],
      "metadata": {
        "id": "NrpSyLHzQife"
      },
      "execution_count": null,
      "outputs": []
    }
  ]
}